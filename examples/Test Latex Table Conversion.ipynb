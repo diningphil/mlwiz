{
 "cells": [
  {
   "cell_type": "code",
   "execution_count": 1,
   "id": "eeff26a6",
   "metadata": {},
   "outputs": [],
   "source": [
    "from mlwiz.evaluation.util import *"
   ]
  },
  {
   "cell_type": "code",
   "execution_count": 4,
   "id": "284ee55d",
   "metadata": {},
   "outputs": [
    {
     "name": "stdout",
     "output_type": "stream",
     "text": [
      "\\begin{tabular}{rlll}\n",
      "\\toprule\n",
      "index & model & MNIST & NCI1 \\\\\n",
      "\\midrule\n",
      "0 & dgn & -- & 53.03 (1.30) \\\\\n",
      "1 & mlp & 79.38 (3.27) & -- \\\\\n",
      "2 & mlp_random & 73.48 (9.40) & -- \\\\\n",
      "\\bottomrule\n",
      "\\end{tabular}\n",
      "\n"
     ]
    }
   ],
   "source": [
    "print(create_latex_table_from_assessment_results([('../RESULTS/mlp_MNIST/', 'mlp', 'MNIST'),\n",
    "                                            ('../RESULTS/mlprandom_MNIST/', 'mlp_random', 'MNIST'),\n",
    "                                            ('../RESULTS/dgn_NCI1/', 'dgn', 'NCI1')], no_decimals=2,\n",
    "                                            model_as_row=True))"
   ]
  },
  {
   "cell_type": "code",
   "execution_count": 5,
   "id": "647fd13e",
   "metadata": {},
   "outputs": [
    {
     "name": "stdout",
     "output_type": "stream",
     "text": [
      "\\begin{tabular}{rllll}\n",
      "\\toprule\n",
      "index & dataset & dgn & mlp & mlp_random \\\\\n",
      "\\midrule\n",
      "0 & MNIST & -- & 79.38 (3.27) & 73.48 (9.40) \\\\\n",
      "1 & NCI1 & 53.03 (1.30) & -- & -- \\\\\n",
      "\\bottomrule\n",
      "\\end{tabular}\n",
      "\n"
     ]
    }
   ],
   "source": [
    "print(create_latex_table_from_assessment_results([('../RESULTS/mlp_MNIST/', 'mlp', 'MNIST'),\n",
    "                                            ('../RESULTS/mlprandom_MNIST/', 'mlp_random', 'MNIST'),\n",
    "                                            ('../RESULTS/dgn_NCI1/', 'dgn', 'NCI1')], no_decimals=2,\n",
    "                                            model_as_row=False))"
   ]
  }
 ],
 "metadata": {
  "kernelspec": {
   "display_name": "mlwiz",
   "language": "python",
   "name": "python3"
  },
  "language_info": {
   "codemirror_mode": {
    "name": "ipython",
    "version": 3
   },
   "file_extension": ".py",
   "mimetype": "text/x-python",
   "name": "python",
   "nbconvert_exporter": "python",
   "pygments_lexer": "ipython3",
   "version": "3.12.3"
  }
 },
 "nbformat": 4,
 "nbformat_minor": 5
}

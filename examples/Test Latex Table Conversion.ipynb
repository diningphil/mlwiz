{
 "cells": [
  {
   "cell_type": "code",
   "execution_count": 1,
   "id": "eeff26a6",
   "metadata": {},
   "outputs": [],
   "source": [
    "from mlwiz.evaluation.util import *"
   ]
  },
  {
   "cell_type": "code",
   "execution_count": null,
   "id": "284ee55d",
   "metadata": {},
   "outputs": [
    {
     "name": "stdout",
     "output_type": "stream",
     "text": [
      "\\begin{tabular}{ll}\n",
      "\\toprule\n",
      "model & NCI1 \\\\\n",
      "\\midrule\n",
      "dgn & 53.03 (1.30) \\\\\n",
      "\\bottomrule\n",
      "\\end{tabular}\n",
      "\n"
     ]
    }
   ],
   "source": [
    "print(create_latex_table_from_assessment_results([('../RESULTS/mlp_MNIST/', 'mlp', 'MNIST'),\n",
    "                                            ('../RESULTS/mlprandom_MNIST/', 'mlp_random', 'MNIST'),\n",
    "                                            ('../RESULTS/dgn_NCI1/', 'dgn', 'NCI1')], no_decimals=2,\n",
    "                                            model_as_row=True))"
   ]
  },
  {
   "cell_type": "code",
   "execution_count": null,
   "id": "647fd13e",
   "metadata": {},
   "outputs": [
    {
     "name": "stdout",
     "output_type": "stream",
     "text": [
      "\\begin{tabular}{ll}\n",
      "\\toprule\n",
      "dataset & dgn \\\\\n",
      "\\midrule\n",
      "NCI1 & 53.03 (1.30) \\\\\n",
      "\\bottomrule\n",
      "\\end{tabular}\n",
      "\n"
     ]
    }
   ],
   "source": [
    "print(create_latex_table_from_assessment_results([('../RESULTS/mlp_MNIST/', 'mlp', 'MNIST'),\n",
    "                                            ('../RESULTS/mlprandom_MNIST/', 'mlp_random', 'MNIST'),\n",
    "                                            ('../RESULTS/dgn_NCI1/', 'dgn', 'NCI1')], no_decimals=2,\n",
    "                                            model_as_row=False))"
   ]
  },
  {
   "cell_type": "code",
   "execution_count": null,
   "id": "e4f605a3",
   "metadata": {},
   "outputs": [],
   "source": []
  }
 ],
 "metadata": {
  "kernelspec": {
   "display_name": "mlwiz",
   "language": "python",
   "name": "python3"
  },
  "language_info": {
   "codemirror_mode": {
    "name": "ipython",
    "version": 3
   },
   "file_extension": ".py",
   "mimetype": "text/x-python",
   "name": "python",
   "nbconvert_exporter": "python",
   "pygments_lexer": "ipython3",
   "version": "3.12.3"
  }
 },
 "nbformat": 4,
 "nbformat_minor": 5
}

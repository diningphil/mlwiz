{
 "cells": [
  {
   "cell_type": "code",
   "execution_count": 1,
   "id": "a53e76f9-4161-4090-a0fb-88fff2b68569",
   "metadata": {},
   "outputs": [],
   "source": [
    "from mlwiz.data.dataset import *\n",
    "from mlwiz.data.provider import *"
   ]
  },
  {
   "cell_type": "code",
   "execution_count": 8,
   "id": "0113a0a1-a0a8-44a5-9625-390a8ffd4e71",
   "metadata": {},
   "outputs": [
    {
     "name": "stderr",
     "output_type": "stream",
     "text": [
      "/home/ferrica/git/mlwiz/mlwiz/data/splitter.py:208: FutureWarning: You are using `torch.load` with `weights_only=False` (the current default value), which uses the default pickle module implicitly. It is possible to construct malicious pickle data which will execute arbitrary code during unpickling (See https://github.com/pytorch/pytorch/blob/main/SECURITY.md#untrusted-models for more details). In a future release, the default value for `weights_only` will be flipped to `True`. This limits the functions that could be executed during unpickling. Arbitrary objects will no longer be allowed to be loaded via this mode unless they are explicitly allowlisted by the user via `torch.serialization.add_safe_globals`. We recommend you start setting `weights_only=True` for any use case where you don't have full control of the loaded file. Please open an issue on GitHub for any issues related to this experimental feature.\n",
      "  splits = torch.load(path)\n",
      "/home/ferrica/git/mlwiz/mlwiz/data/util.py:165: FutureWarning: You are using `torch.load` with `weights_only=False` (the current default value), which uses the default pickle module implicitly. It is possible to construct malicious pickle data which will execute arbitrary code during unpickling (See https://github.com/pytorch/pytorch/blob/main/SECURITY.md#untrusted-models for more details). In a future release, the default value for `weights_only` will be flipped to `True`. This limits the functions that could be executed during unpickling. Arbitrary objects will no longer be allowed to be loaded via this mode unless they are explicitly allowlisted by the user via `torch.serialization.add_safe_globals`. We recommend you start setting `weights_only=True` for any use case where you don't have full control of the loaded file. Please open an issue on GitHub for any issues related to this experimental feature.\n",
      "  dataset_args = torch.load(kwargs_path)\n",
      "/home/ferrica/git/mlwiz/mlwiz/data/splitter.py:208: FutureWarning: You are using `torch.load` with `weights_only=False` (the current default value), which uses the default pickle module implicitly. It is possible to construct malicious pickle data which will execute arbitrary code during unpickling (See https://github.com/pytorch/pytorch/blob/main/SECURITY.md#untrusted-models for more details). In a future release, the default value for `weights_only` will be flipped to `True`. This limits the functions that could be executed during unpickling. Arbitrary objects will no longer be allowed to be loaded via this mode unless they are explicitly allowlisted by the user via `torch.serialization.add_safe_globals`. We recommend you start setting `weights_only=True` for any use case where you don't have full control of the loaded file. Please open an issue on GitHub for any issues related to this experimental feature.\n",
      "  splits = torch.load(path)\n",
      "/home/ferrica/git/mlwiz/mlwiz/data/util.py:165: FutureWarning: You are using `torch.load` with `weights_only=False` (the current default value), which uses the default pickle module implicitly. It is possible to construct malicious pickle data which will execute arbitrary code during unpickling (See https://github.com/pytorch/pytorch/blob/main/SECURITY.md#untrusted-models for more details). In a future release, the default value for `weights_only` will be flipped to `True`. This limits the functions that could be executed during unpickling. Arbitrary objects will no longer be allowed to be loaded via this mode unless they are explicitly allowlisted by the user via `torch.serialization.add_safe_globals`. We recommend you start setting `weights_only=True` for any use case where you don't have full control of the loaded file. Please open an issue on GitHub for any issues related to this experimental feature.\n",
      "  dataset_args = torch.load(kwargs_path)\n",
      "/home/ferrica/git/mlwiz/mlwiz/data/splitter.py:208: FutureWarning: You are using `torch.load` with `weights_only=False` (the current default value), which uses the default pickle module implicitly. It is possible to construct malicious pickle data which will execute arbitrary code during unpickling (See https://github.com/pytorch/pytorch/blob/main/SECURITY.md#untrusted-models for more details). In a future release, the default value for `weights_only` will be flipped to `True`. This limits the functions that could be executed during unpickling. Arbitrary objects will no longer be allowed to be loaded via this mode unless they are explicitly allowlisted by the user via `torch.serialization.add_safe_globals`. We recommend you start setting `weights_only=True` for any use case where you don't have full control of the loaded file. Please open an issue on GitHub for any issues related to this experimental feature.\n",
      "  splits = torch.load(path)\n",
      "/home/ferrica/git/mlwiz/mlwiz/data/util.py:165: FutureWarning: You are using `torch.load` with `weights_only=False` (the current default value), which uses the default pickle module implicitly. It is possible to construct malicious pickle data which will execute arbitrary code during unpickling (See https://github.com/pytorch/pytorch/blob/main/SECURITY.md#untrusted-models for more details). In a future release, the default value for `weights_only` will be flipped to `True`. This limits the functions that could be executed during unpickling. Arbitrary objects will no longer be allowed to be loaded via this mode unless they are explicitly allowlisted by the user via `torch.serialization.add_safe_globals`. We recommend you start setting `weights_only=True` for any use case where you don't have full control of the loaded file. Please open an issue on GitHub for any issues related to this experimental feature.\n",
      "  dataset_args = torch.load(kwargs_path)\n"
     ]
    },
    {
     "name": "stdout",
     "output_type": "stream",
     "text": [
      "torch.Size([32, 1, 28, 28]) torch.Size([32])\n",
      "torch.Size([32, 28, 28]) torch.Size([32])\n",
      "torch.Size([1141, 37]) torch.Size([2, 2516]) torch.Size([32])\n",
      "torch.Size([2708, 1433]) torch.Size([2, 10556]) torch.Size([902]) torch.Size([903]) torch.Size([1, 2708])\n"
     ]
    },
    {
     "name": "stderr",
     "output_type": "stream",
     "text": [
      "/home/ferrica/git/mlwiz/mlwiz/data/splitter.py:208: FutureWarning: You are using `torch.load` with `weights_only=False` (the current default value), which uses the default pickle module implicitly. It is possible to construct malicious pickle data which will execute arbitrary code during unpickling (See https://github.com/pytorch/pytorch/blob/main/SECURITY.md#untrusted-models for more details). In a future release, the default value for `weights_only` will be flipped to `True`. This limits the functions that could be executed during unpickling. Arbitrary objects will no longer be allowed to be loaded via this mode unless they are explicitly allowlisted by the user via `torch.serialization.add_safe_globals`. We recommend you start setting `weights_only=True` for any use case where you don't have full control of the loaded file. Please open an issue on GitHub for any issues related to this experimental feature.\n",
      "  splits = torch.load(path)\n",
      "/home/ferrica/git/mlwiz/mlwiz/data/util.py:165: FutureWarning: You are using `torch.load` with `weights_only=False` (the current default value), which uses the default pickle module implicitly. It is possible to construct malicious pickle data which will execute arbitrary code during unpickling (See https://github.com/pytorch/pytorch/blob/main/SECURITY.md#untrusted-models for more details). In a future release, the default value for `weights_only` will be flipped to `True`. This limits the functions that could be executed during unpickling. Arbitrary objects will no longer be allowed to be loaded via this mode unless they are explicitly allowlisted by the user via `torch.serialization.add_safe_globals`. We recommend you start setting `weights_only=True` for any use case where you don't have full control of the loaded file. Please open an issue on GitHub for any issues related to this experimental feature.\n",
      "  dataset_args = torch.load(kwargs_path)\n"
     ]
    }
   ],
   "source": [
    "provider_mnist = DataProvider(\n",
    "                        data_root='../DATA',\n",
    "                        splits_filepath='../examples/DATA_SPLITS/MNIST/MNIST_outer3_inner2.splits',\n",
    "                        dataset_class=mlwiz.data.dataset.MNIST,\n",
    "                        dataset_name='MNIST',\n",
    "                        data_loader_class=torch.utils.data.DataLoader,\n",
    "                        data_loader_args={},\n",
    "                        outer_folds=3,\n",
    "                        inner_folds=2)\n",
    "provider_mnist.set_inner_k(0)\n",
    "provider_mnist.set_outer_k(0)\n",
    "provider_mnist.set_exp_seed(42)\n",
    "\n",
    "mnist_train_loader = provider_mnist.get_inner_train(batch_size=32)\n",
    "for x, y in mnist_train_loader:\n",
    "    print(x.shape, y.shape)\n",
    "    break\n",
    "\n",
    "provider_mnisttemp = DataProvider(\n",
    "                        data_root='../DATA',\n",
    "                        splits_filepath='../examples/DATA_SPLITS/MNISTTemporal/MNISTTemporal_outer3_inner2.splits',\n",
    "                        dataset_class=mlwiz.data.dataset.MNISTTemporal,\n",
    "                        dataset_name='MNISTTemporal',\n",
    "                        data_loader_class=torch.utils.data.DataLoader,\n",
    "                        data_loader_args={},\n",
    "                        outer_folds=3,\n",
    "                        inner_folds=2)\n",
    "provider_mnisttemp.set_inner_k(0)\n",
    "provider_mnisttemp.set_outer_k(0)\n",
    "provider_mnisttemp.set_exp_seed(42)\n",
    "\n",
    "mnisttemp_train_loader = provider_mnisttemp.get_inner_train(batch_size=32)\n",
    "for x, y in mnisttemp_train_loader:\n",
    "    print(x.shape, y.shape)\n",
    "    break\n",
    "\n",
    "provider_nci1 = DataProvider(\n",
    "                        data_root='../DATA',\n",
    "                        splits_filepath='../examples/DATA_SPLITS/NCI1/NCI1_outer3_inner2.splits',\n",
    "                        dataset_class=mlwiz.data.dataset.NCI1,\n",
    "                        dataset_name='NCI1',\n",
    "                        data_loader_class=torch_geometric.loader.DataLoader,\n",
    "                        data_loader_args={},\n",
    "                        outer_folds=3,\n",
    "                        inner_folds=2)\n",
    "provider_nci1.set_inner_k(0)\n",
    "provider_nci1.set_outer_k(0)\n",
    "provider_nci1.set_exp_seed(42)\n",
    "\n",
    "nci1_train_loader = provider_nci1.get_inner_train(batch_size=32)\n",
    "for g, y in nci1_train_loader:\n",
    "    print(g.x.shape, g.edge_index.shape, y.shape)\n",
    "    break\n",
    "\n",
    "provider_cora = SingleGraphDataProvider(\n",
    "                        data_root='../DATA',\n",
    "                        splits_filepath='../examples/DATA_SPLITS/Cora/Cora_outer3_inner2.splits',\n",
    "                        dataset_class=mlwiz.data.dataset.Cora,\n",
    "                        dataset_name='Cora',\n",
    "                        data_loader_class=torch_geometric.loader.DataLoader,\n",
    "                        data_loader_args={},\n",
    "                        outer_folds=3,\n",
    "                        inner_folds=2)\n",
    "provider_cora.set_inner_k(0)\n",
    "provider_cora.set_outer_k(0)\n",
    "provider_cora.set_exp_seed(42)\n",
    "\n",
    "cora_val_loader = provider_cora.get_inner_val(batch_size=1)\n",
    "for g, y in cora_val_loader:\n",
    "    print(g.x.shape, g.edge_index.shape, g.training_indices.shape, g.eval_indices.shape, y.shape)\n",
    "    break"
   ]
  },
  {
   "cell_type": "code",
   "execution_count": null,
   "id": "378f5dc7-a4e2-4f55-88c3-c6113c7309e7",
   "metadata": {},
   "outputs": [],
   "source": []
  }
 ],
 "metadata": {
  "kernelspec": {
   "display_name": "Python 3 (ipykernel)",
   "language": "python",
   "name": "python3"
  },
  "language_info": {
   "codemirror_mode": {
    "name": "ipython",
    "version": 3
   },
   "file_extension": ".py",
   "mimetype": "text/x-python",
   "name": "python",
   "nbconvert_exporter": "python",
   "pygments_lexer": "ipython3",
   "version": "3.10.12"
  }
 },
 "nbformat": 4,
 "nbformat_minor": 5
}
